{
 "cells": [
  {
   "cell_type": "code",
   "execution_count": 3,
   "metadata": {},
   "outputs": [
    {
     "name": "stderr",
     "output_type": "stream",
     "text": [
      "Using TensorFlow backend.\n",
      "C:\\Users\\Ayinampudi\\Anacondaprompt\\envs\\[tensorproj]\\lib\\site-packages\\smart_open\\ssh.py:34: UserWarning: paramiko missing, opening SSH/SCP/SFTP paths will be disabled.  `pip install paramiko` to suppress\n",
      "  warnings.warn('paramiko missing, opening SSH/SCP/SFTP paths will be disabled.  `pip install paramiko` to suppress')\n",
      "[nltk_data] Downloading package averaged_perceptron_tagger to\n",
      "[nltk_data]     C:\\Users\\Ayinampudi\\AppData\\Roaming\\nltk_data...\n",
      "[nltk_data]   Package averaged_perceptron_tagger is already up-to-\n",
      "[nltk_data]       date!\n"
     ]
    },
    {
     "data": {
      "text/plain": [
       "True"
      ]
     },
     "execution_count": 3,
     "metadata": {},
     "output_type": "execute_result"
    }
   ],
   "source": [
    "#importing libraries\n",
    "\n",
    "import tensorflow as tf\n",
    "from keras.models import Sequential\n",
    "from keras.layers import Dense, Input, LSTM, Dropout, Bidirectional\n",
    "import warnings\n",
    "warnings.filterwarnings(action='ignore', category=UserWarning, module='gensim')\n",
    "import gensim\n",
    "from gensim.models import word2vec\n",
    "import pandas as pd\n",
    "import sklearn as sk\n",
    "import numpy as np\n",
    "import nltk\n",
    "from nltk.stem import WordNetLemmatizer\n",
    "import re\n",
    "nltk.download('averaged_perceptron_tagger')"
   ]
  },
  {
   "cell_type": "code",
   "execution_count": 4,
   "metadata": {
    "scrolled": true
   },
   "outputs": [],
   "source": [
    "#Data Prepocessing \n",
    "\n",
    "#Defining Punctuations\n",
    "\n",
    "puncts = [',', '.', '\"', ':', ')', '(', '-', '!', '?', '|', ';', \"'\", '$', '&', '/', '[', ']', '>', '%', '=', '#', '*', '+', '\\\\', '•',  '~', '@', '£', \n",
    " '·', '_', '{', '}', '©', '^', '®', '`',  '<', '→', '°', '€', '™', '›',  '♥', '←', '×', '§', '″', '′', 'Â', '█', '½', 'à', '…', \n",
    " '“', '★', '”', '–', '●', 'â', '►', '−', '¢', '²', '¬', '░', '¶', '↑', '±', '¿', '▾', '═', '¦', '║', '―', '¥', '▓', '—', '‹', '─', \n",
    " '▒', '：', '¼', '⊕', '▼', '▪', '†', '■', '’', '▀', '¨', '▄', '♫', '☆', 'é', '¯', '♦', '¤', '▲', 'è', '¸', '¾', 'Ã', '⋅', '‘', '∞', \n",
    " '∙', '）', '↓', '、', '│', '（', '»', '，', '♪', '╩', '╚', '³', '・', '╦', '╣', '╔', '╗', '▬', '❤', 'ï', 'Ø', '¹', '≤', '‡', '√', ]\n",
    "\n",
    "#Init the Wordnet Lemmatizer\n",
    "\n",
    "lemmatizer = WordNetLemmatizer()\n",
    "\n",
    "#Reading a textfile, lowercasing words, removing numerics and punctuations from the text\n",
    "ar=[]\n",
    "with open(\"test.txt\", encoding=\"utf8\") as f:             #StackOverflow.txt\n",
    "    for x in f:\n",
    "        x = x.lower()\n",
    "        x = re.sub('[0-9]+', '', x)\n",
    "        for punct in puncts:\n",
    "            if punct in x:\n",
    "                x = x.replace(punct, \"\" )\n",
    "#Splitting, Lemmatizing words in each sentence\n",
    "        x = x.split()\n",
    "        x = [lemmatizer.lemmatize(word) for word in x]       \n",
    "        ar.append(x)\n",
    "#print(ar)\n",
    "       \n",
    "\n",
    "\n",
    "        \n",
    "\n",
    "                 \n",
    "                    \n",
    "        \n"
   ]
  },
  {
   "cell_type": "code",
   "execution_count": 6,
   "metadata": {
    "scrolled": true
   },
   "outputs": [],
   "source": [
    "#Tagging each word with its parts of speech and separating tags into variables\n",
    "\n",
    "word_value_ar =[]\n",
    "pos_value_ar = []\n",
    "for i in range (0,len(ar)-1):\n",
    "    pos_tag =nltk.pos_tag(ar[i])\n",
    "    words_key, pos_value = zip(*pos_tag)\n",
    "    word_value_ar.append(words_key)\n",
    "    pos_value_ar.append(pos_value) \n",
    "    #print(words_key, pos_value)"
   ]
  },
  {
   "cell_type": "code",
   "execution_count": 8,
   "metadata": {
    "scrolled": false
   },
   "outputs": [],
   "source": [
    "#converting words to vector reprepresentation using skip-gram word2vec model\n",
    "\n",
    "def dataEmbedding(embedding_list):\n",
    "    model = word2vec.Word2Vec(embedding_list, sg=1, window=5, size=32, min_count = 1) \n",
    "    word_vectors = model.wv\n",
    "    model.train(embedding_list, total_examples=len(embedding_list), epochs=10)    \n",
    "    return model.wv[embedding_list[0]]\n",
    "\n",
    "word_embeddings = dataEmbedding(word_value_ar)\n",
    "pos_embeddings = dataEmbedding(pos_value_ar)\n",
    "#print(word_embeddings)\n",
    "#print(pos_embeddings)\n",
    "\n"
   ]
  },
  {
   "cell_type": "code",
   "execution_count": 9,
   "metadata": {
    "scrolled": true
   },
   "outputs": [
    {
     "name": "stdout",
     "output_type": "stream",
     "text": [
      "<keras.layers.wrappers.Bidirectional object at 0x000001A4785E7518>\n"
     ]
    }
   ],
   "source": [
    "#building a Bilstm\n",
    "#model = Sequential()\n",
    "lstm_output = Bidirectional(LSTM(word_embeddings))\n",
    "print(lstm_output)\n",
    "#model.add(TimeDistributed(Dense(1, activation='sigmoid')))\n",
    "#model.fit(word_embeddings, epochs=1, batch_size=1)"
   ]
  },
  {
   "cell_type": "code",
   "execution_count": null,
   "metadata": {
    "scrolled": false
   },
   "outputs": [],
   "source": []
  },
  {
   "cell_type": "code",
   "execution_count": null,
   "metadata": {},
   "outputs": [],
   "source": []
  },
  {
   "cell_type": "code",
   "execution_count": null,
   "metadata": {},
   "outputs": [],
   "source": []
  }
 ],
 "metadata": {
  "kernelspec": {
   "display_name": "Python 3",
   "language": "python",
   "name": "python3"
  },
  "language_info": {
   "codemirror_mode": {
    "name": "ipython",
    "version": 3
   },
   "file_extension": ".py",
   "mimetype": "text/x-python",
   "name": "python",
   "nbconvert_exporter": "python",
   "pygments_lexer": "ipython3",
   "version": "3.7.2"
  }
 },
 "nbformat": 4,
 "nbformat_minor": 2
}
